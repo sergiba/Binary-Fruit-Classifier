{
 "cells": [
  {
   "cell_type": "code",
   "execution_count": 150,
   "metadata": {},
   "outputs": [
    {
     "name": "stdout",
     "output_type": "stream",
     "text": [
      "Loaded fruits: ['Apple Braeburn', 'Kaki', 'Potato Red Washed']\n"
     ]
    }
   ],
   "source": [
    "import os\n",
    "import random\n",
    "\n",
    "from matplotlib.image import imread \n",
    "import matplotlib.pyplot as plt\n",
    "\n",
    "import numpy as np\n",
    "\n",
    "from tensorflow.keras import optimizers\n",
    "\n",
    "import pandas as pd\n",
    "\n",
    "simple_path = \"C://Users//sergi//Desktop//Fruits\"\n",
    "\n",
    "files = os.listdir(simple_path) # Find all the files in the directory\n",
    "mix_path = simple_path + \"//\" + files[1] \n",
    "files = os.listdir(mix_path)\n",
    "mix_path = mix_path + \"//\" + files[0] \n",
    "files = os.listdir(mix_path)\n",
    "mix_path = mix_path + \"//\" + files[5]  # Training folder \n",
    "\n",
    "fruits_list = []\n",
    "trainable_fruits = os.listdir(mix_path) # All the fruits folders, let's select \n",
    "\n",
    "for i in range(0,120,50):\n",
    "    fruits_list.append(trainable_fruits[i])\n",
    "print(\"Loaded fruits:\",fruits_list)\n"
   ]
  },
  {
   "cell_type": "code",
   "execution_count": 151,
   "metadata": {},
   "outputs": [
    {
     "name": "stdout",
     "output_type": "stream",
     "text": [
      "Total images for Apple Braeburn training: 492\n",
      "Total images for Kaki training: 490\n",
      "Total images for Potato Red Washed training: 453\n"
     ]
    }
   ],
   "source": [
    "# Load all the images and check size and nº.\n",
    "Images = []\n",
    "\n",
    "for path in fruits_list: # Select the path for each fruit\n",
    "    actual_path = mix_path + \"//\" + path # Select each path\n",
    "    print(\"Total images for\",path,\"training:\", len(os.listdir(actual_path)))"
   ]
  },
  {
   "cell_type": "code",
   "execution_count": 152,
   "metadata": {},
   "outputs": [
    {
     "name": "stdout",
     "output_type": "stream",
     "text": [
      "1435\n"
     ]
    }
   ],
   "source": [
    "# There's different amount of images for each folder, do not forget it. Let's load the images\n",
    "\n",
    "for path in fruits_list:\n",
    "    actual_path = mix_path + \"//\" + path\n",
    "    for image in os.listdir(actual_path): # Accessing the images (one folder per loop)\n",
    "        actual_image = imread(actual_path + \"//\" + image) # Loading the image\n",
    "        #It's necessary to develop a partial algorithm to load the \"label\"\n",
    "        if (path == fruits_list[0]): \n",
    "            attach = [actual_image,1]\n",
    "        else:\n",
    "            attach = [actual_image,0]\n",
    "        Images.append(attach) # Appending images\n",
    "print(len(Images))"
   ]
  },
  {
   "cell_type": "code",
   "execution_count": 153,
   "metadata": {},
   "outputs": [],
   "source": [
    "# Now images have been \"loaded\" with the corresponding data. Let's shuffle them in order to improve the system\n",
    "random.shuffle(Images)\n",
    "\n",
    "'''\n",
    "Now the images have been shuffled, Split the data into X (data) and Y (labels) to have the input data in the proper mode.\n",
    "'''\n",
    "X_training = []\n",
    "Y_training = []\n",
    "for block in Images:\n",
    "    X_training.append(block[0])\n",
    "    Y_training.append(block[1])\n",
    "\n",
    "'''\n",
    "Now data is splitted, let's select all test images.\n",
    "'''\n",
    "\n",
    "files = os.listdir(simple_path) # Find all the files in the directory\n",
    "mix_path = simple_path + \"//\" + files[1] \n",
    "files = os.listdir(mix_path)\n",
    "mix_path = mix_path + \"//\" + files[0] \n",
    "files = os.listdir(mix_path)\n",
    "mix_path = mix_path + \"//\" + files[3]  # Training folder \n",
    "\n",
    "fruits_list2 = fruits_list\n",
    "testing_Images = []\n",
    "test_fruits = os.listdir(mix_path) # All the fruits folders, let's select "
   ]
  },
  {
   "cell_type": "code",
   "execution_count": 154,
   "metadata": {},
   "outputs": [
    {
     "name": "stdout",
     "output_type": "stream",
     "text": [
      "Nº of Apple Braeburn images: 164\n",
      "Nº of Kaki images: 166\n",
      "Nº of Potato Red Washed images: 151\n"
     ]
    }
   ],
   "source": [
    "# Check sizes in order to get an idea of how many images for testing we have.\n",
    "for i in fruits_list2:\n",
    "    actual_path = mix_path + \"//\" + i\n",
    "    print(\"Nº of\",i,\"images:\",len(os.listdir(actual_path)))"
   ]
  },
  {
   "cell_type": "code",
   "execution_count": 155,
   "metadata": {},
   "outputs": [],
   "source": [
    "'''\n",
    "Overall, there's about a 1/3 of images for testing. Let's label each of them following the same procedure as previously in order\n",
    "to provide the validation % testing data.\n",
    "'''\n",
    "for fruit in fruits_list2:\n",
    "    actual_path = mix_path + \"//\" + fruit # Actual path\n",
    "    for image in os.listdir(actual_path): # Passing through all images, we're in the folder. \"load\" image and store it\n",
    "        actual_image = imread(actual_path + \"//\" + image)\n",
    "        # Coding labels\n",
    "        if fruit == fruits_list2[0]: # In case it's an apple\n",
    "            value = [actual_image, 1]\n",
    "        else:\n",
    "            value = [actual_image, 0]\n",
    "        testing_Images.append(value)\n"
   ]
  },
  {
   "cell_type": "code",
   "execution_count": 156,
   "metadata": {},
   "outputs": [],
   "source": [
    "# Split the testing/validation dataset\n",
    "X_testing = []\n",
    "Y_testing = []\n",
    "for value in testing_Images:\n",
    "    X_testing.append(value[0])\n",
    "    Y_testing.append(value[1])\n",
    "\n",
    "    \n",
    "# Time to reshape the input data (both X training and testing) to a 4D array (such as tensor).We'll also define input shapes\n",
    "X = X_training[0].shape[0]\n",
    "Y = X_training[0].shape[1]\n",
    "D = X_training[0].shape[2]\n",
    "\n",
    "\n",
    "'''\n",
    "1- Checking input shapes - all images are 100x100x3. Transformed to numpy array for reshaping.\n",
    "'''\n",
    "X_training = np.array(X_training).reshape(len(X_training),X,Y,D)\n",
    "X_testing = np.array(X_testing).reshape(len(X_testing),X,Y,D)\n",
    "\n",
    "Y_training = np.array(Y_training)\n",
    "Y_testing = np.array(Y_testing)"
   ]
  },
  {
   "cell_type": "code",
   "execution_count": 157,
   "metadata": {},
   "outputs": [
    {
     "name": "stdout",
     "output_type": "stream",
     "text": [
      "Model: \"sequential_9\"\n",
      "_________________________________________________________________\n",
      "Layer (type)                 Output Shape              Param #   \n",
      "=================================================================\n",
      "flatten_9 (Flatten)          (None, 30000)             0         \n",
      "_________________________________________________________________\n",
      "dense_36 (Dense)             (None, 64)                1920064   \n",
      "_________________________________________________________________\n",
      "dense_37 (Dense)             (None, 24)                1560      \n",
      "_________________________________________________________________\n",
      "dense_38 (Dense)             (None, 16)                400       \n",
      "_________________________________________________________________\n",
      "dense_39 (Dense)             (None, 1)                 17        \n",
      "=================================================================\n",
      "Total params: 1,922,041\n",
      "Trainable params: 1,922,041\n",
      "Non-trainable params: 0\n",
      "_________________________________________________________________\n"
     ]
    }
   ],
   "source": [
    "# Final steps: Create the model, train it, and testing it\n",
    "import tensorflow as tf\n",
    "from tensorflow import keras\n",
    "\n",
    "# First model\n",
    "f_model = keras.models.Sequential([\n",
    "        keras.layers.Flatten(input_shape = [X,Y,D]),\n",
    "        keras.layers.Dense(\"64\", activation = \"relu\"),\n",
    "        keras.layers.Dense(\"24\", activation = \"relu\"),\n",
    "        keras.layers.Dense(\"16\", activation = \"relu\"),\n",
    "        keras.layers.Dense(\"1\", activation = \"sigmoid\") # As long as it's a single neuron\n",
    "])\n",
    "\n",
    "# Having a look into specifications\n",
    "f_model.summary()"
   ]
  },
  {
   "cell_type": "code",
   "execution_count": 158,
   "metadata": {},
   "outputs": [
    {
     "name": "stdout",
     "output_type": "stream",
     "text": [
      "Train on 1435 samples, validate on 481 samples\n",
      "Epoch 1/5\n",
      "1435/1435 [==============================] - 3s 2ms/sample - loss: 6.6068 - accuracy: 0.9178 - val_loss: 1.0535 - val_accuracy: 0.9480\n",
      "Epoch 2/5\n",
      "1435/1435 [==============================] - 2s 1ms/sample - loss: 5.0863e-15 - accuracy: 1.0000 - val_loss: 1.7118 - val_accuracy: 0.9335\n",
      "Epoch 3/5\n",
      "1435/1435 [==============================] - 2s 1ms/sample - loss: 9.6557e-15 - accuracy: 1.0000 - val_loss: 1.7199 - val_accuracy: 0.9335\n",
      "Epoch 4/5\n",
      "1435/1435 [==============================] - 1s 837us/sample - loss: 9.6556e-15 - accuracy: 1.0000 - val_loss: 1.7199 - val_accuracy: 0.9335\n",
      "Epoch 5/5\n",
      "1435/1435 [==============================] - 1s 943us/sample - loss: 9.6558e-15 - accuracy: 1.0000 - val_loss: 1.7199 - val_accuracy: 0.9335\n"
     ]
    },
    {
     "data": {
      "text/plain": [
       "<tensorflow.python.keras.callbacks.History at 0x2462fe5cc48>"
      ]
     },
     "execution_count": 158,
     "metadata": {},
     "output_type": "execute_result"
    }
   ],
   "source": [
    "sgd = optimizers.SGD(lr=0.02) #SGD optimizer, parameterizable \n",
    "\n",
    "adam = optimizers.Adam(learning_rate=0.0001)\n",
    "\n",
    "f_model.compile(loss='binary_crossentropy',\n",
    "              optimizer=adam, # Try out sgd to visualize the performance.\n",
    "              metrics = [\"accuracy\"])\n",
    "\n",
    "# Adam optimizer performs way better, giving a 98% of accuracy but a huge loss value.\n",
    "# Used binary crossentropy as long as we're doing a binary classifier.\n",
    "\n",
    "f_model.fit(X_training, Y_training, epochs = 5, validation_data = (X_testing, Y_testing))"
   ]
  },
  {
   "cell_type": "code",
   "execution_count": 159,
   "metadata": {},
   "outputs": [
    {
     "data": {
      "text/plain": [
       "'\\nValues converge too quick, might represent some issues as long as there are few images to \"learn\", for example, using MNIST\\nfashion dataset we\\'ll have 70.000 images for 10 classes, overall 7000 images for each class. \\nIn this system we obtain significantly less images with 3 channels and 4 times bigger.\\n'"
      ]
     },
     "execution_count": 159,
     "metadata": {},
     "output_type": "execute_result"
    }
   ],
   "source": [
    "'''\n",
    "Values converge too quick, might represent some issues as long as there are few images to \"learn\", for example, using MNIST\n",
    "fashion dataset we'll have 70.000 images for 10 classes, overall 7000 images for each class. \n",
    "In this system we obtain significantly less images with 3 channels and 4 times bigger.\n",
    "'''"
   ]
  },
  {
   "cell_type": "code",
   "execution_count": 160,
   "metadata": {},
   "outputs": [
    {
     "data": {
      "image/png": "[encoded data removed]",
      "text/plain": [
       "<Figure size 432x288 with 1 Axes>"
      ]
     },
     "metadata": {
      "needs_background": "light"
     },
     "output_type": "display_data"
    },
    {
     "name": "stdout",
     "output_type": "stream",
     "text": [
      "1 - apple\n"
     ]
    }
   ],
   "source": [
    "# Time to test the system and see how it performs!\n",
    "fruit = os.listdir(mix_path)[0]\n",
    "fruit_path = mix_path + \"//\" + fruit\n",
    "images_list = os.listdir(fruit_path)\n",
    "\n",
    "image = imread(fruit_path + \"//\" + images_list[30]) # Select the 30th image from the folder\n",
    "plt.axis(\"off\")\n",
    "plt.imshow(image)\n",
    "plt.show()\n",
    "\n",
    "values = [\"not an apple\", \"apple\"]\n",
    "\n",
    "image2 = np.array(image).reshape(1,100,100,3)\n",
    "predicted = int(f_model.predict(image2))\n",
    "print(predicted,\"-\",values[predicted])"
   ]
  },
  {
   "cell_type": "code",
   "execution_count": 161,
   "metadata": {},
   "outputs": [
    {
     "data": {
      "image/png": "[encoded data removed]",
      "text/plain": [
       "<Figure size 432x288 with 1 Axes>"
      ]
     },
     "metadata": {
      "needs_background": "light"
     },
     "output_type": "display_data"
    },
    {
     "name": "stdout",
     "output_type": "stream",
     "text": [
      "0 - not an apple\n"
     ]
    }
   ],
   "source": [
    "fruit = os.listdir(mix_path)[25]\n",
    "fruit_path = mix_path + \"//\" + fruit\n",
    "images_list = os.listdir(fruit_path)\n",
    "\n",
    "image = imread(fruit_path + \"//\" + images_list[150])\n",
    "plt.axis(\"off\")\n",
    "plt.imshow(image)\n",
    "plt.show()\n",
    "\n",
    "image2 = np.array(image).reshape(1,100,100,3)\n",
    "predicted = int(f_model.predict(image2))\n",
    "print(predicted, \"-\",values[predicted])"
   ]
  },
  {
   "cell_type": "code",
   "execution_count": 162,
   "metadata": {},
   "outputs": [
    {
     "name": "stdout",
     "output_type": "stream",
     "text": [
      "1 apple\n",
      "Real label: 1\n"
     ]
    }
   ],
   "source": [
    "# Let's try out an example from the testing dataset we prepared previously\n",
    "test = np.array(testing_Images[0][0]).reshape(1,100,100,3)\n",
    "predicted = int(f_model.predict(test))\n",
    "print(predicted, values[predicted])\n",
    "print(\"Real label:\", testing_Images[0][1])"
   ]
  },
  {
   "cell_type": "code",
   "execution_count": 163,
   "metadata": {},
   "outputs": [
    {
     "name": "stdout",
     "output_type": "stream",
     "text": [
      "Real accuracy based in classify apples: 0.7865853658536586\n"
     ]
    }
   ],
   "source": [
    "# Let's predict all apples and extract statistical information \"manually\" just predicting all and checking how many are wrong\n",
    "prediction = []\n",
    "apple_path = mix_path + \"//\" + os.listdir(mix_path)[0]\n",
    "images = os.listdir(apple_path)\n",
    "for image in images:\n",
    "    actual_image = imread(apple_path + \"//\" + image)\n",
    "    actual_image = np.array(actual_image).reshape(1,100,100,3)\n",
    "    prediction.append(f_model.predict(actual_image))\n",
    "    \n",
    "prediction = np.array(prediction)\n",
    "# Extracting the amount of 0 and 1\n",
    "prediction_ok = np.count_nonzero(prediction >= 0.99)\n",
    "prediction_nok = np.count_nonzero(prediction < 0.99)\n",
    "print(\"Real accuracy based in classify apples:\",((prediction_ok)/len(prediction)))"
   ]
  },
  {
   "cell_type": "code",
   "execution_count": 164,
   "metadata": {},
   "outputs": [
    {
     "name": "stdout",
     "output_type": "stream",
     "text": [
      "Real accuracy classifying other fruits: 1.0\n"
     ]
    }
   ],
   "source": [
    "prediction2 = []\n",
    "cf = os.listdir(mix_path)[25]\n",
    "cf_path = mix_path + \"//\" + fruit\n",
    "images_list = os.listdir(cf_path)\n",
    "for image in images_list:\n",
    "    actual_image = imread(cf_path + \"//\" + image)\n",
    "    actual_image = np.array(actual_image).reshape(1,100,100,3)\n",
    "    prediction2.append(f_model.predict(actual_image))\n",
    "    \n",
    "prediction2 = np.array(prediction2)\n",
    "prediction_ok = np.count_nonzero(prediction2 <= 0.01)\n",
    "prediction_nok = np.count_nonzero(prediction2 >= 0.01)\n",
    "print(\"Real accuracy classifying other fruits:\", ((prediction_ok)/len(prediction2)))"
   ]
  },
  {
   "cell_type": "code",
   "execution_count": 165,
   "metadata": {},
   "outputs": [
    {
     "data": {
      "text/plain": [
       "\"\\n83.5% accuracy classifying apples using 128-32-16-1 neurons in the respective layers.\\n85.3% accuracy classifying apples using 64-32-16-1 neurons in the respective layers.\\n87.8% accuracy classifying apples using 64-24-16-1 neurons in the respective layers.\\n\\nNone of the cauliflowers are classified as apples!\\n\\nAlthough it's quite good performance based in simple neurons, keep in mind the fact binary classifiers shall need the same\\namount of samples for 1 and 0 classification. In this case, it's about 25% and performs closely to 90% accuracy.\\nIf we respected this proportion, results would increase!\\n\""
      ]
     },
     "execution_count": 165,
     "metadata": {},
     "output_type": "execute_result"
    }
   ],
   "source": [
    "'''\n",
    "83.5% accuracy classifying apples using 128-32-16-1 neurons in the respective layers.\n",
    "85.3% accuracy classifying apples using 64-32-16-1 neurons in the respective layers.\n",
    "87.8% accuracy classifying apples using 64-24-16-1 neurons in the respective layers.\n",
    "\n",
    "None of the cauliflowers are classified as apples!\n",
    "\n",
    "Although it's quite good performance based in simple neurons, keep in mind the fact binary classifiers shall need the same\n",
    "amount of samples for 1 and 0 classification. In this case, it's about 25% and performs closely to 90% accuracy.\n",
    "If we respected this proportion, results would increase!\n",
    "'''"
   ]
  },
  {
   "cell_type": "code",
   "execution_count": null,
   "metadata": {},
   "outputs": [],
   "source": []
  }
 ],
 "metadata": {
  "kernelspec": {
   "display_name": "Python 3",
   "language": "python",
   "name": "python3"
  },
  "language_info": {
   "codemirror_mode": {
    "name": "ipython",
    "version": 3
   },
   "file_extension": ".py",
   "mimetype": "text/x-python",
   "name": "python",
   "nbconvert_exporter": "python",
   "pygments_lexer": "ipython3",
   "version": "3.7.6"
  }
 },
 "nbformat": 4,
 "nbformat_minor": 4
}
